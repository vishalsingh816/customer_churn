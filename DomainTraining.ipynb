{
  "nbformat": 4,
  "nbformat_minor": 0,
  "metadata": {
    "colab": {
      "provenance": [],
      "collapsed_sections": [],
      "authorship_tag": "ABX9TyPYp1FTbu/nQ8gj3yWmVDGt",
      "include_colab_link": true
    },
    "kernelspec": {
      "name": "python3",
      "display_name": "Python 3"
    },
    "language_info": {
      "name": "python"
    }
  },
  "cells": [
    {
      "cell_type": "markdown",
      "metadata": {
        "id": "view-in-github",
        "colab_type": "text"
      },
      "source": [
        "<a href=\"https://colab.research.google.com/github/vishalsingh816/customer_churn/blob/main/DomainTraining.ipynb\" target=\"_parent\"><img src=\"https://colab.research.google.com/assets/colab-badge.svg\" alt=\"Open In Colab\"/></a>"
      ]
    },
    {
      "cell_type": "code",
      "execution_count": null,
      "metadata": {
        "colab": {
          "base_uri": "https://localhost:8080/"
        },
        "id": "Kv-A5nHcRbrY",
        "outputId": "3e3c8a9f-5b8f-44ca-c0eb-0612b1b11da9"
      },
      "outputs": [
        {
          "output_type": "stream",
          "name": "stdout",
          "text": [
            "int64\n"
          ]
        }
      ],
      "source": [
        "import numpy as np\n",
        "abcd = np.array([1,2,3,4])\n",
        "print(abcd.dtype)\n"
      ]
    },
    {
      "cell_type": "code",
      "source": [
        "aa = np.array(['ram', 'sita', 'ajay'])\n",
        "print (aa.dtype)"
      ],
      "metadata": {
        "colab": {
          "base_uri": "https://localhost:8080/"
        },
        "id": "d4F7GnfjSs0M",
        "outputId": "2ff03322-7316-4ef2-a53b-c4f57be00b9a"
      },
      "execution_count": null,
      "outputs": [
        {
          "output_type": "stream",
          "name": "stdout",
          "text": [
            "<U4\n"
          ]
        }
      ]
    },
    {
      "cell_type": "code",
      "source": [
        "mm = np.array([1,4,6,8,10,15,16,17,18,19])\n",
        "a=mm.reshape (2,5)\n",
        "print (a)"
      ],
      "metadata": {
        "colab": {
          "base_uri": "https://localhost:8080/"
        },
        "id": "PUk3VXmhTNbv",
        "outputId": "0e7ca556-88a8-4a22-d3e3-b5d7e0c34f27"
      },
      "execution_count": null,
      "outputs": [
        {
          "output_type": "stream",
          "name": "stdout",
          "text": [
            "[[ 1  4  6  8 10]\n",
            " [15 16 17 18 19]]\n"
          ]
        }
      ]
    },
    {
      "cell_type": "code",
      "source": [
        "a1=np.array([3,5,7,])\n",
        "a2=np.array([5,6,4])\n",
        "a=np.concatenate((a1,a2))\n",
        "print (a)"
      ],
      "metadata": {
        "colab": {
          "base_uri": "https://localhost:8080/"
        },
        "id": "uMPpOVCRT4Ht",
        "outputId": "9c8a22e0-c5f3-4cb5-8458-e1662b27b29f"
      },
      "execution_count": null,
      "outputs": [
        {
          "output_type": "stream",
          "name": "stdout",
          "text": [
            "[3 5 7 5 6 4]\n"
          ]
        }
      ]
    },
    {
      "cell_type": "code",
      "source": [
        "a3=np.array([[1,2],[4,5]])\n",
        "a4=np.array([[7,8],[1,5]])\n",
        "e=np.concatenate((a3,a4),axis=1)\n",
        "print (e)"
      ],
      "metadata": {
        "colab": {
          "base_uri": "https://localhost:8080/"
        },
        "id": "A0cclyXMUc3y",
        "outputId": "1292ed2a-a6ad-44a9-b030-1a32ecc8b180"
      },
      "execution_count": null,
      "outputs": [
        {
          "output_type": "stream",
          "name": "stdout",
          "text": [
            "[[1 2 7 8]\n",
            " [4 5 1 5]]\n"
          ]
        }
      ]
    },
    {
      "cell_type": "code",
      "source": [
        "print ('VishaL')\n"
      ],
      "metadata": {
        "colab": {
          "base_uri": "https://localhost:8080/"
        },
        "id": "gnRB4KuIWIr9",
        "outputId": "f9f733c2-ac5f-4172-a375-84c803b630ab"
      },
      "execution_count": null,
      "outputs": [
        {
          "output_type": "stream",
          "name": "stdout",
          "text": [
            "VishaL\n"
          ]
        }
      ]
    },
    {
      "cell_type": "code",
      "source": [
        "d =np.array([[2,9],[5,6]])\n",
        "v =np.resize(d,(5,2))\n",
        "print(v)"
      ],
      "metadata": {
        "colab": {
          "base_uri": "https://localhost:8080/"
        },
        "id": "6k7AQNZmWs1H",
        "outputId": "1a3f285c-eab8-47bf-da3e-f548fc76f286"
      },
      "execution_count": null,
      "outputs": [
        {
          "output_type": "stream",
          "name": "stdout",
          "text": [
            "[[2 9]\n",
            " [5 6]\n",
            " [2 9]\n",
            " [5 6]\n",
            " [2 9]]\n"
          ]
        }
      ]
    },
    {
      "cell_type": "code",
      "source": [
        "ay13=np.array([5,56,7,8])\n",
        "print (np.sort(ay13))"
      ],
      "metadata": {
        "colab": {
          "base_uri": "https://localhost:8080/"
        },
        "id": "cxWgpUEwXUGv",
        "outputId": "df9d596d-6606-4b34-8c65-e9339b918a36"
      },
      "execution_count": null,
      "outputs": [
        {
          "output_type": "stream",
          "name": "stdout",
          "text": [
            "[ 5  7  8 56]\n"
          ]
        }
      ]
    },
    {
      "cell_type": "code",
      "source": [
        "p=np.array(['d','o','g'])\n",
        "print(np.sort(p))"
      ],
      "metadata": {
        "colab": {
          "base_uri": "https://localhost:8080/"
        },
        "id": "5c2EMYs3Xqyj",
        "outputId": "9e7a4cdb-eb6b-4f34-b9e7-5f227b2c452f"
      },
      "execution_count": null,
      "outputs": [
        {
          "output_type": "stream",
          "name": "stdout",
          "text": [
            "['d' 'g' 'o']\n"
          ]
        }
      ]
    },
    {
      "cell_type": "code",
      "source": [
        "vk=np.array([1,40,3])\n",
        "print (np.arange(vk))"
      ],
      "metadata": {
        "colab": {
          "base_uri": "https://localhost:8080/",
          "height": 183
        },
        "id": "JHDu_eNwYEA8",
        "outputId": "7ed2b23c-7b6d-4e87-9fc8-e11d07dc9ffc"
      },
      "execution_count": null,
      "outputs": [
        {
          "output_type": "error",
          "ename": "NameError",
          "evalue": "ignored",
          "traceback": [
            "\u001b[0;31m---------------------------------------------------------------------------\u001b[0m",
            "\u001b[0;31mNameError\u001b[0m                                 Traceback (most recent call last)",
            "\u001b[0;32m<ipython-input-1-20a85e9993e3>\u001b[0m in \u001b[0;36m<module>\u001b[0;34m\u001b[0m\n\u001b[0;32m----> 1\u001b[0;31m \u001b[0mvk\u001b[0m\u001b[0;34m=\u001b[0m\u001b[0mnp\u001b[0m\u001b[0;34m.\u001b[0m\u001b[0marray\u001b[0m\u001b[0;34m(\u001b[0m\u001b[0;34m[\u001b[0m\u001b[0;36m1\u001b[0m\u001b[0;34m,\u001b[0m\u001b[0;36m40\u001b[0m\u001b[0;34m,\u001b[0m\u001b[0;36m3\u001b[0m\u001b[0;34m]\u001b[0m\u001b[0;34m)\u001b[0m\u001b[0;34m\u001b[0m\u001b[0;34m\u001b[0m\u001b[0m\n\u001b[0m\u001b[1;32m      2\u001b[0m \u001b[0mprint\u001b[0m \u001b[0;34m(\u001b[0m\u001b[0mnp\u001b[0m\u001b[0;34m.\u001b[0m\u001b[0marange\u001b[0m\u001b[0;34m(\u001b[0m\u001b[0mvk\u001b[0m\u001b[0;34m)\u001b[0m\u001b[0;34m)\u001b[0m\u001b[0;34m\u001b[0m\u001b[0;34m\u001b[0m\u001b[0m\n",
            "\u001b[0;31mNameError\u001b[0m: name 'np' is not defined"
          ]
        }
      ]
    },
    {
      "cell_type": "code",
      "source": [
        "import numpy as np\n",
        "a35=[0,1],[0,5]"
      ],
      "metadata": {
        "id": "gYFglpeXWNNz"
      },
      "execution_count": null,
      "outputs": []
    },
    {
      "cell_type": "code",
      "source": [
        "a38 = np.array([[0,1,2],[2,3,4]])\n",
        "a39 = np.array([4,5,6])\n",
        "print(np.add(a38,a39))"
      ],
      "metadata": {
        "colab": {
          "base_uri": "https://localhost:8080/"
        },
        "id": "ai_71IgdW_Xg",
        "outputId": "06262b7e-e3cb-4b07-d660-6001ce328e65"
      },
      "execution_count": null,
      "outputs": [
        {
          "output_type": "stream",
          "name": "stdout",
          "text": [
            "[[ 4  6  8]\n",
            " [ 6  8 10]]\n"
          ]
        }
      ]
    },
    {
      "cell_type": "code",
      "source": [],
      "metadata": {
        "id": "QOCp7pyVY8cB"
      },
      "execution_count": null,
      "outputs": []
    }
  ]
}